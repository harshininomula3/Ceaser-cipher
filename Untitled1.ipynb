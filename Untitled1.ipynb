{
  "nbformat": 4,
  "nbformat_minor": 0,
  "metadata": {
    "colab": {
      "provenance": [],
      "authorship_tag": "ABX9TyPWtDNg0g6aLp84WoK6LqX3",
      "include_colab_link": true
    },
    "kernelspec": {
      "name": "python3",
      "display_name": "Python 3"
    },
    "language_info": {
      "name": "python"
    }
  },
  "cells": [
    {
      "cell_type": "markdown",
      "metadata": {
        "id": "view-in-github",
        "colab_type": "text"
      },
      "source": [
        "<a href=\"https://colab.research.google.com/github/harshininomula3/Ceaser-cipher/blob/main/Untitled1.ipynb\" target=\"_parent\"><img src=\"https://colab.research.google.com/assets/colab-badge.svg\" alt=\"Open In Colab\"/></a>"
      ]
    },
    {
      "cell_type": "code",
      "source": [
        "alphabet = ['a','b','c','d','e','f','g','h','i','j','k','l','m',\n",
        "            'n','o','p','q','r','s','t','u','v','w','x','y','z']  # 'v' was missing\n",
        "\n",
        "direction = input(\"Type 'encode' to encrypt, type 'decode' to decrypt:\\n\")\n",
        "text = input(\"Type your message:\\n\").lower()\n",
        "shift = int(input(\"Type the shift number:\\n\"))\n",
        "\n",
        "def encrypt(original_txt, shift_amount):\n",
        "    cipher_txt = \"\"\n",
        "    for letter in original_txt:\n",
        "        if letter in alphabet:\n",
        "            shifted_position = (alphabet.index(letter) + shift_amount) % 26\n",
        "            cipher_txt += alphabet[shifted_position]\n",
        "        else:\n",
        "            cipher_txt += letter  #spaces\n",
        "    print(f\"Encrypted text: {cipher_txt}\")\n",
        "\n",
        "def decrypt(original_txt, shift_amount):\n",
        "    plain_txt = \"\"\n",
        "    for letter in original_txt:\n",
        "        if letter in alphabet:\n",
        "            shifted_position = (alphabet.index(letter) - shift_amount) % 26\n",
        "            plain_txt += alphabet[shifted_position]\n",
        "        else:\n",
        "            plain_txt += letter\n",
        "    print(f\"Decrypted text: {plain_txt}\")\n",
        "\n",
        "if direction == \"encode\":\n",
        "    encrypt(text, shift)\n",
        "elif direction == \"decode\":\n",
        "    decrypt(text, shift)\n",
        "else:\n",
        "    print(\"Invalid input. Please type 'encode' or 'decode'.\")\n"
      ],
      "metadata": {
        "id": "I8Bm1ASfzM4t"
      },
      "execution_count": null,
      "outputs": []
    }
  ]
}